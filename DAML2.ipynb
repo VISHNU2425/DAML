{
  "nbformat": 4,
  "nbformat_minor": 0,
  "metadata": {
    "colab": {
      "provenance": []
    },
    "kernelspec": {
      "name": "python3",
      "display_name": "Python 3"
    },
    "language_info": {
      "name": "python"
    }
  },
  "cells": [
    {
      "cell_type": "code",
      "execution_count": 12,
      "metadata": {
        "id": "45UEzIqs5MI0"
      },
      "outputs": [],
      "source": [
        "import numpy as np"
      ]
    },
    {
      "cell_type": "markdown",
      "source": [
        "create a 1-d array"
      ],
      "metadata": {
        "id": "0OMa7gPj53Zf"
      }
    },
    {
      "cell_type": "code",
      "source": [
        "list1 = [2,4,6,8]\n",
        "array1 = np.array(list1)"
      ],
      "metadata": {
        "id": "7gqh_0i96Utl"
      },
      "execution_count": 13,
      "outputs": []
    },
    {
      "cell_type": "code",
      "source": [
        "array2 = np.array([1,2,3,4,5])\n",
        "print(array2)"
      ],
      "metadata": {
        "colab": {
          "base_uri": "https://localhost:8080/"
        },
        "id": "9T-NOg4t6j0U",
        "outputId": "7dd0a666-b650-4626-e293-08dc4e48d1f7"
      },
      "execution_count": 14,
      "outputs": [
        {
          "output_type": "stream",
          "name": "stdout",
          "text": [
            "[1 2 3 4 5]\n"
          ]
        }
      ]
    },
    {
      "cell_type": "markdown",
      "source": [
        "creating a 2-d Array\n"
      ],
      "metadata": {
        "id": "6UCpLdZX6wwY"
      }
    },
    {
      "cell_type": "code",
      "source": [
        "array3 = np.array([[1,2,3,4,5],\n",
        "                  [6,7,8,9,10]])\n",
        "print(array3)"
      ],
      "metadata": {
        "colab": {
          "base_uri": "https://localhost:8080/"
        },
        "id": "ybwPw-mU63on",
        "outputId": "fc716b0e-5e9f-443c-bf3f-5ce99bdc4b8e"
      },
      "execution_count": 15,
      "outputs": [
        {
          "output_type": "stream",
          "name": "stdout",
          "text": [
            "[[ 1  2  3  4  5]\n",
            " [ 6  7  8  9 10]]\n"
          ]
        }
      ]
    },
    {
      "cell_type": "code",
      "source": [
        "array4 = np.array([[[1,2,3,4,5],\n",
        "                    [6,7,8,9,10],\n",
        "                    [2,4,6,8,10]],\n",
        "\n",
        "                  [[11,22,34,45,56],\n",
        "                   [67,78,89,90,10],\n",
        "                   [25,544,63,82,91]]])\n",
        "print(array4)"
      ],
      "metadata": {
        "colab": {
          "base_uri": "https://localhost:8080/"
        },
        "id": "ryG3d4tP7i_v",
        "outputId": "dc8e6feb-6751-4733-b06e-47bde3bd5c27"
      },
      "execution_count": 16,
      "outputs": [
        {
          "output_type": "stream",
          "name": "stdout",
          "text": [
            "[[[  1   2   3   4   5]\n",
            "  [  6   7   8   9  10]\n",
            "  [  2   4   6   8  10]]\n",
            "\n",
            " [[ 11  22  34  45  56]\n",
            "  [ 67  78  89  90  10]\n",
            "  [ 25 544  63  82  91]]]\n"
          ]
        }
      ]
    },
    {
      "cell_type": "code",
      "source": [
        "array5 = np.array([2,4,6])\n",
        "print(array5.dtype)"
      ],
      "metadata": {
        "colab": {
          "base_uri": "https://localhost:8080/"
        },
        "id": "5BxDtd2c9HnN",
        "outputId": "03061e25-5795-4241-acbe-e3a8920719c3"
      },
      "execution_count": 8,
      "outputs": [
        {
          "output_type": "stream",
          "name": "stdout",
          "text": [
            "int64\n"
          ]
        }
      ]
    },
    {
      "cell_type": "code",
      "source": [
        "array6 = np.array([[[1,2,3,4,5],\n",
        "                    [6,7,8,9,10],\n",
        "                    [2,4,6,8,10]],\n",
        "\n",
        "                  [[11,22,34,45,56],\n",
        "                   [67,78,89,90,10],\n",
        "                   [25,544,63,82,91]]])\n",
        "print(array6)\n",
        "print(array6.dtype)\n",
        "print(array6.ndim)\n",
        "print(array6.size)\n",
        "print(array6.shape)\n",
        "\n",
        "\n",
        "\n",
        "\n"
      ],
      "metadata": {
        "colab": {
          "base_uri": "https://localhost:8080/"
        },
        "id": "EjKU1Uxz9Z7V",
        "outputId": "5019dbdf-855e-4ca7-9cb3-742a719d7da8"
      },
      "execution_count": 9,
      "outputs": [
        {
          "output_type": "stream",
          "name": "stdout",
          "text": [
            "[[[  1   2   3   4   5]\n",
            "  [  6   7   8   9  10]\n",
            "  [  2   4   6   8  10]]\n",
            "\n",
            " [[ 11  22  34  45  56]\n",
            "  [ 67  78  89  90  10]\n",
            "  [ 25 544  63  82  91]]]\n",
            "int64\n",
            "3\n",
            "30\n",
            "(2, 3, 5)\n"
          ]
        }
      ]
    },
    {
      "cell_type": "markdown",
      "source": [
        "attribute size"
      ],
      "metadata": {
        "id": "ixfahY06_Pbc"
      }
    },
    {
      "cell_type": "code",
      "source": [
        "array7 = np.array([7,14,21,28,35])\n",
        "array8 = np.array([1,2,3,4,5], dtype=np.int32)\n",
        "print(array7.itemsize)\n",
        "print(array8.itemsize)"
      ],
      "metadata": {
        "colab": {
          "base_uri": "https://localhost:8080/"
        },
        "id": "AEcfO_Yy-93k",
        "outputId": "a2a01848-4149-4459-843d-ed53ddd5aca1"
      },
      "execution_count": 10,
      "outputs": [
        {
          "output_type": "stream",
          "name": "stdout",
          "text": [
            "8\n",
            "4\n"
          ]
        }
      ]
    },
    {
      "cell_type": "markdown",
      "source": [
        "Compute mean using numpy"
      ],
      "metadata": {
        "id": "fgO9lJstxVP9"
      }
    },
    {
      "cell_type": "code",
      "source": [
        "\n",
        "\n",
        "marks = np.array([82,84,78,96,99])\n",
        "mean_marks=np.mean(marks)\n",
        "print(mean_marks)"
      ],
      "metadata": {
        "colab": {
          "base_uri": "https://localhost:8080/"
        },
        "id": "m7kYCN1GxUK2",
        "outputId": "66ee1611-49d6-439c-8b63-0fd73ae9338e"
      },
      "execution_count": 11,
      "outputs": [
        {
          "output_type": "stream",
          "name": "stdout",
          "text": [
            "87.8\n"
          ]
        }
      ]
    },
    {
      "cell_type": "markdown",
      "source": [
        "Standard deviation of numpy array"
      ],
      "metadata": {
        "id": "kSVQak1Wx-EL"
      }
    },
    {
      "cell_type": "code",
      "source": [
        "marks = np.array([82,84,78,96,99])\n",
        "std_marks=np.std(marks)\n",
        "print(std_marks)\n"
      ],
      "metadata": {
        "colab": {
          "base_uri": "https://localhost:8080/"
        },
        "id": "mi1kwGK0yEnL",
        "outputId": "5980b425-59a2-41a9-c10b-e3f1b22124e1"
      },
      "execution_count": 17,
      "outputs": [
        {
          "output_type": "stream",
          "name": "stdout",
          "text": [
            "8.207313811473277\n"
          ]
        }
      ]
    },
    {
      "cell_type": "markdown",
      "source": [
        "Median using numpy"
      ],
      "metadata": {
        "id": "LEjulsBrzXYl"
      }
    },
    {
      "cell_type": "code",
      "source": [
        "marks = np.array([82,84,78,96,99])\n",
        "median_marks=np.median(marks)\n",
        "print(median_marks)\n"
      ],
      "metadata": {
        "colab": {
          "base_uri": "https://localhost:8080/"
        },
        "id": "NThbaaByzcPJ",
        "outputId": "1e67da49-dc24-46dd-9c8f-ada550d91274"
      },
      "execution_count": 18,
      "outputs": [
        {
          "output_type": "stream",
          "name": "stdout",
          "text": [
            "84.0\n"
          ]
        }
      ]
    },
    {
      "cell_type": "markdown",
      "source": [
        "Numpy Percentile\n"
      ],
      "metadata": {
        "id": "iNhvuCK10IEj"
      }
    },
    {
      "cell_type": "code",
      "source": [
        "marks =np.array([82,84,96,78,100])\n",
        "percentile_marks=np.percentile(marks,75)\n",
        "print(percentile_marks)"
      ],
      "metadata": {
        "colab": {
          "base_uri": "https://localhost:8080/"
        },
        "id": "PIK703Vp0M8y",
        "outputId": "d17d75e1-dd3c-417f-e676-d12de4fe8563"
      },
      "execution_count": 19,
      "outputs": [
        {
          "output_type": "stream",
          "name": "stdout",
          "text": [
            "96.0\n"
          ]
        }
      ]
    },
    {
      "cell_type": "markdown",
      "source": [
        "Numpy max\n"
      ],
      "metadata": {
        "id": "9Ku_GCdp0dpe"
      }
    },
    {
      "cell_type": "code",
      "source": [
        "marks = np.array([82,84,78,96,99])\n",
        "max_marks=np.max(marks)\n",
        "print(max_marks)"
      ],
      "metadata": {
        "colab": {
          "base_uri": "https://localhost:8080/"
        },
        "id": "aQP2eIRs0gvJ",
        "outputId": "af0f05f2-e704-440e-9e6d-3fcd5b5dad1a"
      },
      "execution_count": 20,
      "outputs": [
        {
          "output_type": "stream",
          "name": "stdout",
          "text": [
            "99\n"
          ]
        }
      ]
    },
    {
      "cell_type": "markdown",
      "source": [
        "Numpy min\n"
      ],
      "metadata": {
        "id": "FZ1w1FvM0ocn"
      }
    },
    {
      "cell_type": "code",
      "source": [
        "marks = np.array([82,84,78,96,99])\n",
        "min_marks=np.min(marks)\n",
        "print(min_marks)"
      ],
      "metadata": {
        "colab": {
          "base_uri": "https://localhost:8080/"
        },
        "id": "XG9JIYiH0qH4",
        "outputId": "6aa4687d-98dd-4659-baf8-fae5c1ff5107"
      },
      "execution_count": 21,
      "outputs": [
        {
          "output_type": "stream",
          "name": "stdout",
          "text": [
            "78\n"
          ]
        }
      ]
    },
    {
      "cell_type": "markdown",
      "source": [
        "nbytes"
      ],
      "metadata": {
        "id": "KoifjAxJ07Xi"
      }
    },
    {
      "cell_type": "code",
      "source": [
        "array9 = np.array([2,4,6,8])\n",
        "print(array9.nbytes)"
      ],
      "metadata": {
        "colab": {
          "base_uri": "https://localhost:8080/"
        },
        "id": "PqCewR9v1CHP",
        "outputId": "c839121c-73df-4a87-e07e-65bb2a849baf"
      },
      "execution_count": 22,
      "outputs": [
        {
          "output_type": "stream",
          "name": "stdout",
          "text": [
            "32\n"
          ]
        }
      ]
    }
  ]
}